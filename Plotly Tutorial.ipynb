{
 "cells": [
  {
   "cell_type": "code",
   "execution_count": 29,
   "metadata": {},
   "outputs": [],
   "source": [
    "import numpy as np\n",
    "import pandas as pd\n",
    "import plotly.offline as py\n",
    "import plotly.graph_objs as go"
   ]
  },
  {
   "cell_type": "code",
   "execution_count": 33,
   "metadata": {},
   "outputs": [],
   "source": [
    "# Create sample data\n",
    "n = 200\n",
    "x = np.linspace(0,100, n)\n",
    "y1 = np.sin(x)\n",
    "y2 = np.cos(x)\n",
    "y3 = y1 + y2"
   ]
  },
  {
   "cell_type": "code",
   "execution_count": 45,
   "metadata": {},
   "outputs": [
    {
     "data": {
      "text/plain": [
       "'example.html'"
      ]
     },
     "execution_count": 45,
     "metadata": {},
     "output_type": "execute_result"
    }
   ],
   "source": [
    "## Plotly steps\n",
    "\n",
    "#1 Create traces\n",
    "trace = go.Scatter(\n",
    "    x = x,\n",
    "    y = y1,\n",
    "    name = \"test\",\n",
    "    line = dict(\n",
    "        color = \"Red\",\n",
    "        width = 4,\n",
    "        dash = \"dash\"\n",
    "        )\n",
    "    )\n",
    "\n",
    "#2 Create information dictionnary\n",
    "layout = dict(\n",
    "    title = \"test234\",\n",
    "    xaxis = dict(title = \"x\"),\n",
    "    yaxis = dict(title = \"some other stuff\")\n",
    ")\n",
    "\n",
    "#3 Pack the data \n",
    "data = [trace]\n",
    "\n",
    "#4 Create a figure\n",
    "fig = dict(data = data, layout = layout)\n",
    "\n",
    "#5 Create a plot \n",
    "py.plot(data, filename=\"example.html\")\n",
    "\n"
   ]
  },
  {
   "cell_type": "code",
   "execution_count": null,
   "metadata": {},
   "outputs": [],
   "source": []
  }
 ],
 "metadata": {
  "kernelspec": {
   "display_name": "Python 3",
   "language": "python",
   "name": "python3"
  },
  "language_info": {
   "codemirror_mode": {
    "name": "ipython",
    "version": 3
   },
   "file_extension": ".py",
   "mimetype": "text/x-python",
   "name": "python",
   "nbconvert_exporter": "python",
   "pygments_lexer": "ipython3",
   "version": "3.7.4"
  }
 },
 "nbformat": 4,
 "nbformat_minor": 2
}
